{
 "cells": [
  {
   "cell_type": "code",
   "execution_count": 3,
   "metadata": {
    "collapsed": true
   },
   "outputs": [],
   "source": [
    "import gensim\n",
    "from gensim import corpora, models, similarities\n",
    "import nltk\n",
    "import json"
   ]
  },
  {
   "cell_type": "code",
   "execution_count": 4,
   "metadata": {
    "collapsed": true
   },
   "outputs": [],
   "source": [
    "from collections import OrderedDict\n",
    "from semanticparser import *\n",
    "from tools import *"
   ]
  },
  {
   "cell_type": "code",
   "execution_count": 5,
   "metadata": {
    "collapsed": true
   },
   "outputs": [],
   "source": [
    "username = 'franklin'"
   ]
  },
  {
   "cell_type": "code",
   "execution_count": 27,
   "metadata": {
    "collapsed": false
   },
   "outputs": [
    {
     "data": {
      "text/plain": [
       "1984"
      ]
     },
     "execution_count": 27,
     "metadata": {},
     "output_type": "execute_result"
    }
   ],
   "source": [
    "len(texts)"
   ]
  },
  {
   "cell_type": "code",
   "execution_count": 17,
   "metadata": {
    "collapsed": true
   },
   "outputs": [],
   "source": [
    "with open('data/%s.txt' % username) as docs_file:\n",
    "    documents = docs_file.read().replace('\\n', '').decode('utf-8')\n",
    "\n",
    "# break into sentences\n",
    "sent_detector = nltk.data.load('tokenizers/punkt/english.pickle')\n",
    "sents_all = sent_detector.tokenize(documents.strip())\n",
    "sent_generator = nltk.bigrams(sents_all)\n",
    "sents = [\" \".join(s) for s in sent_generator]\n"
   ]
  },
  {
   "cell_type": "code",
   "execution_count": 23,
   "metadata": {
    "collapsed": true
   },
   "outputs": [],
   "source": [
    "texts = remove_stopwords(sents, True)\n",
    "dictionary, lsi, index = texts_to_index(texts, 8, username)"
   ]
  },
  {
   "cell_type": "code",
   "execution_count": 18,
   "metadata": {
    "collapsed": true
   },
   "outputs": [],
   "source": [
    "with open('data/%s.json' % username, 'w') as f:\n",
    "    json.dump(sents,f)"
   ]
  },
  {
   "cell_type": "code",
   "execution_count": 24,
   "metadata": {
    "collapsed": true
   },
   "outputs": [],
   "source": [
    "dictionary.save('data/%s.dict' % username) \n",
    "lsi.save('data/%s-corpus.lsi' % username)\n",
    "index.save('data/%s-corpus.index' % username)"
   ]
  },
  {
   "cell_type": "code",
   "execution_count": 31,
   "metadata": {
    "collapsed": true
   },
   "outputs": [],
   "source": [
    "### test functions\n",
    "def load_sents(username, root='data'):\n",
    "    \"\"\" Load documents\n",
    "            Preprocessed: dictionary, corpus, index, lsi\n",
    "            Archives: documents\n",
    "    \"\"\"\n",
    "    dictionary = corpora.Dictionary.load('%s/%s.dict' % (root,username))\n",
    "\n",
    "    with open('%s/%s.json' % (root,username)) as docs_file:\n",
    "        documents = json.load(docs_file)\n",
    "\n",
    "    lsi = models.LsiModel.load('%s/%s-corpus.lsi' % (root,username))\n",
    "    #index = similarities.MatrixSimilarity.load('data/%s-corpus.index' % username)\n",
    "    index = similarities.Similarity.load('%s/%s-corpus.index' % (root,username))\n",
    "\n",
    "    return documents, dictionary, lsi, index\n",
    "\n",
    "def test_response(username, t):\n",
    "    trash = [t]\n",
    "    documents0, dictionary0, lsi0, index0 = load_sents(username)\n",
    "    r = gen_response(documents0, dictionary0, lsi0, index0, t, trash, True)\n",
    "    print r\n",
    "\n",
    "def gen_response(sents, dictionary, lsi, index, t, trash, limit1=True):\n",
    "    # tokenize input sentence\n",
    "    clean_input = clean_str(t).lower().split()\n",
    "    \n",
    "    print clean_input\n",
    "\n",
    "    # get most similar post from input sentence\n",
    "    sims = query_page(clean_input, dictionary, lsi, index)\n",
    "\n",
    "    # repeat the process on the sentences in the doc\n",
    "    sample = [sents[sims[0][0]], sents[sims[1][0]], sents[sims[2][0]], sents[sims[3][0]],\n",
    "                sents[sims[4][0]], sents[sims[5][0]], sents[sims[6][0]], sents[sims[7][0]],\n",
    "                 sents[sims[8][0]],  sents[sims[9][0]],  sents[sims[10][0]],  sents[sims[11][0]],\n",
    "                  sents[sims[12][0]], sents[sims[13][0]],  sents[sims[14][0]],  sents[sims[15][0]]]\n",
    "\n",
    "    rmult = []\n",
    "    #reply = create_reply(sample, '')\n",
    "    if sample and sample not in trash:\n",
    "        # reply to the tweet\n",
    "        if limit1:\n",
    "            return sample\n",
    "        else:\n",
    "            rmult.append(sample)\n",
    "    if limit1:\n",
    "        return None\n",
    "    else:\n",
    "        return rmult\n"
   ]
  },
  {
   "cell_type": "code",
   "execution_count": 32,
   "metadata": {
    "collapsed": false
   },
   "outputs": [
    {
     "name": "stdout",
     "output_type": "stream",
     "text": [
      "['what', 'is', 'your', 'favorite', 'book?']\n",
      "[u'2. Being diligent in reading the holy\\rScriptures.', u\"Pleased with the Pilgrim's\\rProgress, my first collection was of John Bunyan's works in separate\\rlittle volumes. I afterward sold them to enable me to buy R. Burton's\\rHistorical Collections; they were small chapmen's books, and cheap, 40\\ror 50 in all.\", u\"Nicholas Scull, a surveyor, afterwards surveyor-general, who lov'd\\rbooks, and sometimes made a few verses. William Parsons, bred a shoemaker, but loving reading, had acquir'd a\\rconsiderable share of mathematics, which he first studied with a view\\rto astrology, that he afterwards laught at it.\", u\"I\\rafterwards with a little painstaking, acquir'd as much of the Spanish\\ras to read their books also. I have already mention'd that I had only one year's instruction in a\\rLatin school, and that when very young, after which I neglected that\\rlanguage entirely.\", u'It was entitled \"A Dissertation on Liberty and\\rNecessity, Pleasure and Pain.\" I inscribed it to my friend Ralph; I\\rprinted a small number.', u\"I afterward sold them to enable me to buy R. Burton's\\rHistorical Collections; they were small chapmen's books, and cheap, 40\\ror 50 in all. My father's little library consisted chiefly of books in\\rpolemic divinity, most of which I read, and have since often regretted\\rthat, at a time when I had such a thirst for knowledge, more proper\\rbooks had not fallen in my way since it was now resolved I should not\\rbe a clergyman.\", u'She had been genteelly bred, was sensible and\\rlively, and of most pleasing conversation. Ralph read plays to her in\\rthe evenings, they grew intimate, she took another lodging, and he\\rfollowed her.', u'My chief acquaintances at this time were Charles Osborne, Joseph\\rWatson, and James Ralph, all lovers of reading. The two first were\\rclerks to an eminent scrivener or conveyancer in the town, Charles\\rBrogden; the other was clerk to a merchant.', u\"I also read Seller's and Shermy's books of\\rNavigation, and became acquainted with the little geometry they\\rcontain; but never proceeded far in that science. And I read about\\rthis time Locke On Human Understanding, and the Art of Thinking, by\\rMessrs. du Port Royal.\", u'Perhaps, too, she thought my expectations not so well founded as I\\rimagined them to be. My chief acquaintances at this time were Charles Osborne, Joseph\\rWatson, and James Ralph, all lovers of reading.', u\"As we play'd\\rpretty equally, we thus beat one another into that language. I\\rafterwards with a little painstaking, acquir'd as much of the Spanish\\ras to read their books also.\", u\"My father's little library consisted chiefly of books in\\rpolemic divinity, most of which I read, and have since often regretted\\rthat, at a time when I had such a thirst for knowledge, more proper\\rbooks had not fallen in my way since it was now resolved I should not\\rbe a clergyman. Plutarch's Lives there was in which I read abundantly,\\rand I still think that time spent to great advantage.\", u'I had never before seen any of them. I bought it, read it over\\rand over, and was much delighted with it.', u\"William Parsons, bred a shoemaker, but loving reading, had acquir'd a\\rconsiderable share of mathematics, which he first studied with a view\\rto astrology, that he afterwards laught at it. He also became\\rsurveyor-general.\", u'Being diligent in reading the holy\\rScriptures. 3.', u\"From a child I was fond of reading, and all the little money that came\\rinto my hands was ever laid out in books. Pleased with the Pilgrim's\\rProgress, my first collection was of John Bunyan's works in separate\\rlittle volumes.\"]\n"
     ]
    }
   ],
   "source": [
    "test_response('franklin', \"what is your favorite book?\")"
   ]
  },
  {
   "cell_type": "code",
   "execution_count": null,
   "metadata": {
    "collapsed": true
   },
   "outputs": [],
   "source": []
  }
 ],
 "metadata": {
  "kernelspec": {
   "display_name": "Python 2",
   "language": "python",
   "name": "python2"
  },
  "language_info": {
   "codemirror_mode": {
    "name": "ipython",
    "version": 2
   },
   "file_extension": ".py",
   "mimetype": "text/x-python",
   "name": "python",
   "nbconvert_exporter": "python",
   "pygments_lexer": "ipython2",
   "version": "2.7.10"
  }
 },
 "nbformat": 4,
 "nbformat_minor": 0
}
