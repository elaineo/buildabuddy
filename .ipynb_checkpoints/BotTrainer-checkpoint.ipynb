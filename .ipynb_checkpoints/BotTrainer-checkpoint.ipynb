{
 "cells": [
  {
   "cell_type": "code",
   "execution_count": 1,
   "metadata": {
    "collapsed": true
   },
   "outputs": [],
   "source": [
    "import gensim\n",
    "from gensim import corpora, models, similarities\n",
    "import nltk\n",
    "import json"
   ]
  },
  {
   "cell_type": "code",
   "execution_count": 2,
   "metadata": {
    "collapsed": true
   },
   "outputs": [],
   "source": [
    "from collections import OrderedDict\n",
    "from semanticparser import *\n",
    "from tools import *"
   ]
  },
  {
   "cell_type": "code",
   "execution_count": 32,
   "metadata": {
    "collapsed": true
   },
   "outputs": [],
   "source": [
    "username = 'tinafey'"
   ]
  },
  {
   "cell_type": "code",
   "execution_count": 17,
   "metadata": {
    "collapsed": true
   },
   "outputs": [],
   "source": [
    "with open('data/%s.txt' % username) as docs_file:\n",
    "    documents = docs_file.read().replace('\\n', ' ').decode('utf-8')\n",
    "\n",
    "# break into sentences\n",
    "sent_detector = nltk.data.load('tokenizers/punkt/english.pickle')\n",
    "sents_all = sent_detector.tokenize(documents.strip())\n",
    "sent_generator = nltk.bigrams(sents_all)\n",
    "sents = [\" \".join(s) for s in sent_generator]\n"
   ]
  },
  {
   "cell_type": "code",
   "execution_count": null,
   "metadata": {
    "collapsed": false
   },
   "outputs": [],
   "source": [
    "texts = remove_stopwords(sents, True)\n",
    "dictionary, lsi, index = texts_to_index(texts, 256, username)"
   ]
  },
  {
   "cell_type": "code",
   "execution_count": 19,
   "metadata": {
    "collapsed": true
   },
   "outputs": [],
   "source": [
    "with open('data/%s.json' % username, 'w') as f:\n",
    "    json.dump(sents,f)"
   ]
  },
  {
   "cell_type": "code",
   "execution_count": 20,
   "metadata": {
    "collapsed": true
   },
   "outputs": [],
   "source": [
    "dictionary.save('data/%s.dict' % username) \n",
    "lsi.save('data/%s-corpus.lsi' % username)\n",
    "index.save('data/%s-corpus.index' % username)"
   ]
  },
  {
   "cell_type": "code",
   "execution_count": 39,
   "metadata": {
    "collapsed": true
   },
   "outputs": [],
   "source": [
    "### test functions\n",
    "def load_sents(username, root='data'):\n",
    "    \"\"\" Load documents\n",
    "            Preprocessed: dictionary, corpus, index, lsi\n",
    "            Archives: documents\n",
    "    \"\"\"\n",
    "    dictionary = corpora.Dictionary.load('%s/%s.dict' % (root,username))\n",
    "\n",
    "    with open('%s/%s.json' % (root,username)) as docs_file:\n",
    "        documents = json.load(docs_file)\n",
    "\n",
    "    lsi = models.LsiModel.load('%s/%s-corpus.lsi' % (root,username))\n",
    "    #index = similarities.MatrixSimilarity.load('data/%s-corpus.index' % username)\n",
    "    index = similarities.Similarity.load('%s/%s-corpus.index' % (root,username))\n",
    "\n",
    "    return documents, dictionary, lsi, index\n",
    "\n",
    "def test_response(username, t):\n",
    "    trash = [t]\n",
    "    documents0, dictionary0, lsi0, index0 = load_sents(username)\n",
    "    r = gen_response(documents0, dictionary0, lsi0, index0, t, trash, True)\n",
    "    return r\n",
    "\n",
    "def gen_response(sents, dictionary, lsi, index, t, trash, limit1=True):\n",
    "    # tokenize input sentence\n",
    "    clean_input = clean_str(t).lower().split()\n",
    "\n",
    "    # get most similar post from input sentence\n",
    "    sims = query_page(clean_input, dictionary, lsi, index)\n",
    "\n",
    "    # repeat the process on the sentences in the doc\n",
    "    sample = [sents[sims[0][0]], sents[sims[1][0]], sents[sims[2][0]], sents[sims[3][0]],\n",
    "                sents[sims[4][0]], sents[sims[5][0]], sents[sims[6][0]], sents[sims[7][0]],\n",
    "                sents[sims[8][0]], sents[sims[9][0]]]\n",
    "\n",
    "    rmult = []\n",
    "    #reply = create_reply(sample, '')\n",
    "    if sample and sample not in trash:\n",
    "        # reply to the tweet\n",
    "        if limit1:\n",
    "            return sample\n",
    "        else:\n",
    "            rmult.append(sample)\n",
    "    if limit1:\n",
    "        return None\n",
    "    else:\n",
    "        return rmult\n"
   ]
  },
  {
   "cell_type": "code",
   "execution_count": 40,
   "metadata": {
    "collapsed": false
   },
   "outputs": [
    {
     "data": {
      "text/plain": [
       "[u'he needed to know. Then James laid it out for me.',\n",
       " u'Q: When is it on, again? A: Thursdays at either 10:00 or 8:30 or\\u2026 you know what?',\n",
       " u'A: Thursdays at either 10:00 or 8:30 or\\u2026 you know what? Just DVR it.',\n",
       " u'Nope, you know what? The more I think about it, I\\u2019m just projecting.',\n",
       " u'MALE WRITER: I don\\u2019t know. I hear she\\u2019s pretty batshit.',\n",
       " u'FEMALE WRITER: You know who I loved growing up? .',\n",
       " u'What about her for this part? MALE WRITER: I don\\u2019t know.',\n",
       " u'Don\\u2019t you know you can fly? Dave Finkel and Brett Baer were a writing team from LA, and I\\u2019m proud to say that during that first year they contributed some of our weirdest material.',\n",
       " u'The Secrets of Mommy\\u2019s Beauty I know why you bought this book. Or should I say, I know why you borrowed this    book from that woman at your office.',\n",
       " u'(giving in) No one can know we\\u2019re together, Jack. Not even your friend Tracy Jordan out there.']"
      ]
     },
     "execution_count": 40,
     "metadata": {},
     "output_type": "execute_result"
    }
   ],
   "source": [
    "test_response(username, \"Hi, do you know any funny jokes?\")"
   ]
  },
  {
   "cell_type": "code",
   "execution_count": 42,
   "metadata": {
    "collapsed": false
   },
   "outputs": [],
   "source": [
    "topics = [d[1] for d in dictionary.items()]"
   ]
  },
  {
   "cell_type": "code",
   "execution_count": 43,
   "metadata": {
    "collapsed": false
   },
   "outputs": [
    {
     "data": {
      "text/plain": [
       "[u'writings',\n",
       " u'overreaches',\n",
       " u'yellow',\n",
       " u'narcotic',\n",
       " u'four',\n",
       " u'woods',\n",
       " u'ornate',\n",
       " u'cyprus',\n",
       " u'aggression',\n",
       " u'marching']"
      ]
     },
     "execution_count": 43,
     "metadata": {},
     "output_type": "execute_result"
    }
   ],
   "source": [
    "topics[:10]"
   ]
  },
  {
   "cell_type": "code",
   "execution_count": 37,
   "metadata": {
    "collapsed": false
   },
   "outputs": [],
   "source": [
    "# Generate dialog files\n",
    "dump = '<?xml version=\"1.0\" encoding=\"UTF-8\"?><dialog xsi:noNamespaceSchemaLocation=\"WatsonDialogDocument_1.0.xsd\" xmlns:xsi=\"http://www.w3.org/2001/XMLSchema-instance\"><flow><folder label=\"Main\">'\n",
    "dump = \"\"\n",
    "documents0, dictionary0, lsi0, index0 = load_sents(username)\n",
    "for top in topics[:1000]:\n",
    "    dump += '<input><grammar><item>*%s*</item></grammar><output><prompt selectionType=\"RANDOM\">' % top\n",
    "    responses = gen_response(sents, dictionary, lsi, index, top, [], True)\n",
    "    for r in responses:\n",
    "        dump += \"<item>%s</item>\" % r\n",
    "    dump += \"</prompt></output></input>\"\n",
    "dump += '</folder></flow></dialog>'"
   ]
  },
  {
   "cell_type": "code",
   "execution_count": 38,
   "metadata": {
    "collapsed": false
   },
   "outputs": [],
   "source": [
    "with open('data/%s.xml' % username, 'w') as f:\n",
    "    json.dump(dump,f)"
   ]
  },
  {
   "cell_type": "code",
   "execution_count": null,
   "metadata": {
    "collapsed": true
   },
   "outputs": [],
   "source": []
  }
 ],
 "metadata": {
  "kernelspec": {
   "display_name": "Python 2",
   "language": "python",
   "name": "python2"
  },
  "language_info": {
   "codemirror_mode": {
    "name": "ipython",
    "version": 2
   },
   "file_extension": ".py",
   "mimetype": "text/x-python",
   "name": "python",
   "nbconvert_exporter": "python",
   "pygments_lexer": "ipython2",
   "version": "2.7.10"
  }
 },
 "nbformat": 4,
 "nbformat_minor": 0
}
