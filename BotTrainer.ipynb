{
 "cells": [
  {
   "cell_type": "code",
   "execution_count": 1,
   "metadata": {
    "collapsed": true
   },
   "outputs": [],
   "source": [
    "import gensim\n",
    "from gensim import corpora, models, similarities\n",
    "import nltk\n",
    "import json"
   ]
  },
  {
   "cell_type": "code",
   "execution_count": 2,
   "metadata": {
    "collapsed": true
   },
   "outputs": [],
   "source": [
    "from collections import OrderedDict\n",
    "from semanticparser import *\n",
    "from tools import *"
   ]
  },
  {
   "cell_type": "code",
   "execution_count": 107,
   "metadata": {
    "collapsed": true
   },
   "outputs": [],
   "source": [
    "username = 'trump'"
   ]
  },
  {
   "cell_type": "code",
   "execution_count": 78,
   "metadata": {
    "collapsed": true
   },
   "outputs": [],
   "source": [
    "with open('data/%s.txt' % username) as docs_file:\n",
    "    documents = docs_file.read().replace('\\n', ' ').decode('utf-8')\n",
    "\n",
    "# break into sentences\n",
    "sent_detector = nltk.data.load('tokenizers/punkt/english.pickle')\n",
    "sents_all = sent_detector.tokenize(documents.strip())\n",
    "sent_generator = nltk.bigrams(sents_all)\n",
    "sents = [\" \".join(s) for s in sent_generator]\n"
   ]
  },
  {
   "cell_type": "code",
   "execution_count": 79,
   "metadata": {
    "collapsed": false
   },
   "outputs": [],
   "source": [
    "texts = remove_stopwords(sents, True)\n",
    "dictionary, lsi, index = texts_to_index(texts, 256, username)"
   ]
  },
  {
   "cell_type": "code",
   "execution_count": 80,
   "metadata": {
    "collapsed": true
   },
   "outputs": [],
   "source": [
    "with open('data/%s.json' % username, 'w') as f:\n",
    "    json.dump(sents,f)"
   ]
  },
  {
   "cell_type": "code",
   "execution_count": 81,
   "metadata": {
    "collapsed": true
   },
   "outputs": [],
   "source": [
    "dictionary.save('data/%s.dict' % username) \n",
    "lsi.save('data/%s-corpus.lsi' % username)\n",
    "index.save('data/%s-corpus.index' % username)"
   ]
  },
  {
   "cell_type": "code",
   "execution_count": 39,
   "metadata": {
    "collapsed": true
   },
   "outputs": [],
   "source": [
    "### test functions\n",
    "def load_sents(username, root='data'):\n",
    "    \"\"\" Load documents\n",
    "            Preprocessed: dictionary, corpus, index, lsi\n",
    "            Archives: documents\n",
    "    \"\"\"\n",
    "    dictionary = corpora.Dictionary.load('%s/%s.dict' % (root,username))\n",
    "\n",
    "    with open('%s/%s.json' % (root,username)) as docs_file:\n",
    "        documents = json.load(docs_file)\n",
    "\n",
    "    lsi = models.LsiModel.load('%s/%s-corpus.lsi' % (root,username))\n",
    "    #index = similarities.MatrixSimilarity.load('data/%s-corpus.index' % username)\n",
    "    index = similarities.Similarity.load('%s/%s-corpus.index' % (root,username))\n",
    "\n",
    "    return documents, dictionary, lsi, index\n",
    "\n",
    "def test_response(username, t):\n",
    "    trash = [t]\n",
    "    documents0, dictionary0, lsi0, index0 = load_sents(username)\n",
    "    r = gen_response(documents0, dictionary0, lsi0, index0, t, trash, True)\n",
    "    return r\n",
    "\n",
    "def gen_response(sents, dictionary, lsi, index, t, trash, limit1=True):\n",
    "    # tokenize input sentence\n",
    "    clean_input = clean_str(t).lower().split()\n",
    "\n",
    "    # get most similar post from input sentence\n",
    "    sims = query_page(clean_input, dictionary, lsi, index)\n",
    "\n",
    "    # repeat the process on the sentences in the doc\n",
    "    sample = [sents[sims[0][0]], sents[sims[1][0]], sents[sims[2][0]], sents[sims[3][0]],\n",
    "                sents[sims[4][0]], sents[sims[5][0]], sents[sims[6][0]], sents[sims[7][0]],\n",
    "                sents[sims[8][0]], sents[sims[9][0]]]\n",
    "\n",
    "    rmult = []\n",
    "    #reply = create_reply(sample, '')\n",
    "    if sample and sample not in trash:\n",
    "        # reply to the tweet\n",
    "        if limit1:\n",
    "            return sample\n",
    "        else:\n",
    "            rmult.append(sample)\n",
    "    if limit1:\n",
    "        return None\n",
    "    else:\n",
    "        return rmult\n"
   ]
  },
  {
   "cell_type": "code",
   "execution_count": 108,
   "metadata": {
    "collapsed": false
   },
   "outputs": [
    {
     "data": {
      "text/plain": [
       "[u'And, I can tell, some of the candidates, they went in. They didn\\u2019t know the air-conditioner didn\\u2019t work.',\n",
       " u'They didn\\u2019t know the air-conditioner didn\\u2019t work. They sweated like dogs.',\n",
       " u'They sweated like dogs. They didn\\u2019t know the room was too big, because they didn\\u2019t have anybody there.',\n",
       " u'They didn\\u2019t know the room was too big, because they didn\\u2019t have anybody there. How are they going to beat ISIS?',\n",
       " u'How are they going to beat ISIS? I don\\u2019t think it\\u2019s gonna happen.',\n",
       " u'I don\\u2019t think it\\u2019s gonna happen. Our country is in serious trouble.',\n",
       " u'Our country is in serious trouble. We don\\u2019t have victories anymore.',\n",
       " u'We don\\u2019t have victories anymore. We used to have victories, but we don\\u2019t have them.',\n",
       " u'We used to have victories, but we don\\u2019t have them. When was the last time anybody saw us beating, let\\u2019s say, China in a trade deal?',\n",
       " u'When was the last time anybody saw us beating, let\\u2019s say, China in a trade deal? They kill us.']"
      ]
     },
     "execution_count": 108,
     "metadata": {},
     "output_type": "execute_result"
    }
   ],
   "source": [
    "test_response(username, \"what do you do for fun?\")"
   ]
  },
  {
   "cell_type": "code",
   "execution_count": 83,
   "metadata": {
    "collapsed": false
   },
   "outputs": [],
   "source": [
    "topics = [d[1] for d in dictionary.items()]"
   ]
  },
  {
   "cell_type": "code",
   "execution_count": 84,
   "metadata": {
    "collapsed": false
   },
   "outputs": [
    {
     "data": {
      "text/plain": [
       "[u'fawn',\n",
       " u'\\u201cpeeping\\u201d',\n",
       " u'yellow',\n",
       " u'four',\n",
       " u'askew',\n",
       " u'woods',\n",
       " u'hanging',\n",
       " u'marching',\n",
       " u'looking',\n",
       " u'granting']"
      ]
     },
     "execution_count": 84,
     "metadata": {},
     "output_type": "execute_result"
    }
   ],
   "source": [
    "topics[:10]"
   ]
  },
  {
   "cell_type": "code",
   "execution_count": 37,
   "metadata": {
    "collapsed": false
   },
   "outputs": [],
   "source": [
    "# Generate dialog files\n",
    "dump = '<?xml version=\"1.0\" encoding=\"UTF-8\"?><dialog xsi:noNamespaceSchemaLocation=\"WatsonDialogDocument_1.0.xsd\" xmlns:xsi=\"http://www.w3.org/2001/XMLSchema-instance\"><flow><folder label=\"Main\">'\n",
    "dump = \"\"\n",
    "documents0, dictionary0, lsi0, index0 = load_sents(username)\n",
    "for top in topics[:1000]:\n",
    "    dump += '<input><grammar><item>*%s*</item></grammar><output><prompt selectionType=\"RANDOM\">' % top\n",
    "    responses = gen_response(sents, dictionary, lsi, index, top, [], True)\n",
    "    for r in responses:\n",
    "        dump += \"<item>%s</item>\" % r\n",
    "    dump += \"</prompt></output></input>\"\n",
    "dump += '</folder></flow></dialog>'"
   ]
  },
  {
   "cell_type": "code",
   "execution_count": 38,
   "metadata": {
    "collapsed": false
   },
   "outputs": [],
   "source": [
    "with open('data/%s.xml' % username, 'w') as f:\n",
    "    json.dump(dump,f)"
   ]
  },
  {
   "cell_type": "code",
   "execution_count": null,
   "metadata": {
    "collapsed": true
   },
   "outputs": [],
   "source": []
  }
 ],
 "metadata": {
  "kernelspec": {
   "display_name": "Python 2",
   "language": "python",
   "name": "python2"
  },
  "language_info": {
   "codemirror_mode": {
    "name": "ipython",
    "version": 2
   },
   "file_extension": ".py",
   "mimetype": "text/x-python",
   "name": "python",
   "nbconvert_exporter": "python",
   "pygments_lexer": "ipython2",
   "version": "2.7.10"
  }
 },
 "nbformat": 4,
 "nbformat_minor": 0
}
